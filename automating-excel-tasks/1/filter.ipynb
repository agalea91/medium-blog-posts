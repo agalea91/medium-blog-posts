{
 "cells": [
  {
   "cell_type": "code",
   "execution_count": 1,
   "metadata": {
    "collapsed": true
   },
   "outputs": [],
   "source": [
    "import pandas as pd\n",
    "\n",
    "def filter_calc(file):\n",
    "    ''' Input the file path and return calculation\n",
    "    results on the filtered data. '''\n",
    "    \n",
    "    # Read the file into a pandas dataframe\n",
    "    df = pd.read_csv(file)\n",
    "    \n",
    "    # Filter search volume and position\n",
    "    df_fltr = df[(df['Volume'] >= 100) & (df['Position'] > 10) & (df['Position'] < 21)]\n",
    "    \n",
    "    # Filter the URLs\n",
    "    parse_URL = lambda url: '/videos/' in url\n",
    "    df_fltr = df_fltr[df_fltr['Url'].apply(parse_URL)]\n",
    "    \n",
    "    # Return the calculations: counts and sum\n",
    "    return len(df_fltr), df_fltr['Volume'].sum()"
   ]
  },
  {
   "cell_type": "code",
   "execution_count": null,
   "metadata": {
    "collapsed": false
   },
   "outputs": [],
   "source": [
    "import glob\n",
    "\n",
    "# Generate a list of all the .csv files in the directory\n",
    "files = glob.glob('*.csv')\n",
    "\n",
    "# Iterate through the files\n",
    "tot_count, tot_sum = 0, 0\n",
    "for f in files:\n",
    "\n",
    "    # Call the function\n",
    "    vol_count, vol_sum = filter_calc(f)\n",
    "    \n",
    "    # Update the totals\n",
    "    tot_count += vol_count\n",
    "    tot_sum += vol_sum\n",
    "    \n",
    "    # Print the results\n",
    "    print(f.ljust(25), str(vol_count).rjust(10), str(vol_sum).rjust(10))\n",
    "\n",
    "# Print the totals\n",
    "print(' '*25, '-'*25)\n",
    "print(' '*25, str(tot_count).rjust(10), str(tot_sum).rjust(10))"
   ]
  }
 ],
 "metadata": {
  "anaconda-cloud": {},
  "kernelspec": {
   "display_name": "Python [default]",
   "language": "python",
   "name": "python3"
  },
  "language_info": {
   "codemirror_mode": {
    "name": "ipython",
    "version": 3
   },
   "file_extension": ".py",
   "mimetype": "text/x-python",
   "name": "python",
   "nbconvert_exporter": "python",
   "pygments_lexer": "ipython3",
   "version": "3.5.2"
  }
 },
 "nbformat": 4,
 "nbformat_minor": 1
}
